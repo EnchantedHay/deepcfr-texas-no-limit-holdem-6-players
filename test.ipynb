{
 "cells": [
  {
   "cell_type": "code",
   "execution_count": 41,
   "metadata": {},
   "outputs": [],
   "source": [
    "import pokers as pkrs\n",
    "import random\n",
    "\n",
    "class RandomAgent:\n",
    "    \"\"\"Simple random agent for poker.\"\"\"\n",
    "    def __init__(self, player_id):\n",
    "        self.player_id = player_id\n",
    "        \n",
    "    def choose_action(self, state):\n",
    "        \"\"\"Choose a random legal action.\"\"\"\n",
    "        if not state.legal_actions:\n",
    "            # Default action if no legal actions (shouldn't happen)\n",
    "            raise\n",
    "        \n",
    "        # Select a random legal action\n",
    "        action_enum = random.choice(state.legal_actions)\n",
    "        \n",
    "        # For raises, select a random amount between min and max\n",
    "        if action_enum == pkrs.ActionEnum.Raise:\n",
    "            player_state = state.players_state[state.current_player]\n",
    "            min_amount = state.min_bet\n",
    "            max_amount = player_state.stake  # All-in\n",
    "            \n",
    "            # Choose between 0.5x pot, 1x pot, or a random amount\n",
    "            pot_amounts = [state.pot * 0.5, state.pot]\n",
    "            valid_amounts = [amt for amt in pot_amounts if min_amount <= amt <= max_amount]\n",
    "            \n",
    "            if valid_amounts:\n",
    "                amount = random.choice(valid_amounts)\n",
    "            else:\n",
    "                amount = random.uniform(min_amount, max_amount)\n",
    "                \n",
    "            return pkrs.Action(action_enum, amount)\n",
    "        else:\n",
    "            return pkrs.Action(action_enum)"
   ]
  },
  {
   "cell_type": "code",
   "execution_count": 42,
   "metadata": {},
   "outputs": [
    {
     "name": "stdout",
     "output_type": "stream",
     "text": [
      "Stage -> Stage.Preflop\n",
      "Actions: [ActionEnum.Fold, ActionEnum.Call, ActionEnum.Raise] -> <builtins.Action object at 0x1067272d0>\n",
      "Stage -> Stage.Preflop\n",
      "Actions: [ActionEnum.Fold, ActionEnum.Call, ActionEnum.Raise] -> <builtins.Action object at 0x10aab31e0>\n",
      "Stage -> Stage.Preflop\n",
      "Actions: [ActionEnum.Fold, ActionEnum.Call, ActionEnum.Raise] -> <builtins.Action object at 0x1067272d0>\n",
      "Stage -> Stage.Preflop\n",
      "Actions: [ActionEnum.Fold, ActionEnum.Call, ActionEnum.Raise] -> <builtins.Action object at 0x10aab31e0>\n",
      "Stage -> Stage.Preflop\n",
      "Actions: [ActionEnum.Fold, ActionEnum.Call, ActionEnum.Raise] -> <builtins.Action object at 0x1067272d0>\n",
      "Stage -> Stage.Preflop\n",
      "Actions: [ActionEnum.Fold, ActionEnum.Call, ActionEnum.Raise] -> <builtins.Action object at 0x10aab31e0>\n",
      "Stage -> Stage.Preflop\n",
      "Actions: [ActionEnum.Fold, ActionEnum.Call, ActionEnum.Raise] -> <builtins.Action object at 0x1067272d0>\n",
      "Stage -> Stage.Preflop\n",
      "Actions: [ActionEnum.Fold, ActionEnum.Call, ActionEnum.Raise] -> <builtins.Action object at 0x10aab31e0>\n"
     ]
    }
   ],
   "source": [
    "agents = [RandomAgent(\"Player 1\"), RandomAgent(\"Player 2\"), RandomAgent(\"Player 3\"), RandomAgent(\"Player 4\"), RandomAgent(\"Player 5\"), RandomAgent(\"Player 6\")]\n",
    "initial_state = pkrs.State.from_seed(n_players=len(agents), button=0, sb=0.5, bb=1.0, stake=100.0, seed=random.randint(0, 10000))\n",
    "trace = [initial_state]\n",
    "\n",
    "while not trace[-1].final_state:\n",
    "    state = trace[-1]\n",
    "    print(f\"Stage -> {state.stage}\")\n",
    "    print(f\"Actions: {state.legal_actions}\", end=\"\")\n",
    "    action = agents[state.current_player].choose_action(state)\n",
    "    print(f\" -> {action}\")\n",
    "    new_state = state.apply_action(action)\n",
    "    trace.append(new_state)\n",
    "\n",
    "    trace.append(state.apply_action(action))"
   ]
  },
  {
   "cell_type": "code",
   "execution_count": 43,
   "metadata": {},
   "outputs": [
    {
     "name": "stdout",
     "output_type": "stream",
     "text": [
      "              0·        1         2         3         4         5      pot    public\n",
      "           |3♦ 2♦|   |K♥ 2♠|   |Q♠ 4♣|   |2♥ 5♣|   |5♥ 4♥|   |5♠ 8♣|\n",
      "Preflop:     0/100   0.5/100     1/100     0/100     0/100     0/100   1.5    ||\n",
      "                                            ↓ Fold\n",
      "Preflop:     0/100   0.5/100     1/100    x0/100     0/100     0/100   1.5    ||\n",
      "                                            ↓ Fold\n",
      "Preflop:     0/100   0.5/100     1/100    x0/100     0/100     0/100   1.5    ||\n",
      "                                                      ↓ Raise(1.5)\n",
      "Preflop:     0/100   0.5/100     1/100    x0/100   2.5/100     0/100     4    ||\n",
      "                                                      ↓ Raise(1.5)\n",
      "Preflop:     0/100   0.5/100     1/100    x0/100   2.5/100     0/100     4    ||\n",
      "                                                                ↓ Fold\n",
      "Preflop:     0/100   0.5/100     1/100    x0/100   2.5/100    x0/100     4    ||\n",
      "                                                                ↓ Fold\n",
      "Preflop:     0/100   0.5/100     1/100    x0/100   2.5/100    x0/100     4    ||\n",
      "              ↓ Fold\n",
      "Preflop:    x0/100   0.5/100     1/100    x0/100   2.5/100    x0/100     4    ||\n",
      "              ↓ Fold\n",
      "Preflop:    x0/100   0.5/100     1/100    x0/100   2.5/100    x0/100     4    ||\n",
      "                        ↓ Raise(4)\n",
      "Preflop:    x0/100   6.5/100     1/100    x0/100   2.5/100    x0/100    10    ||\n",
      "                        ↓ Raise(4)\n",
      "Preflop:    x0/100   6.5/100     1/100    x0/100   2.5/100    x0/100    10    ||\n",
      "                                  ↓ Raise(10)\n",
      "Preflop:    x0/100   6.5/100  16.5/100    x0/100   2.5/100    x0/100  25.5    ||\n",
      "                                  ↓ Raise(10)\n",
      "Preflop:    x0/100   6.5/100  16.5/100    x0/100   2.5/100    x0/100  25.5    ||\n",
      "                                                      ↓ Fold\n",
      "Preflop:    x0/100   6.5/100  16.5/100    x0/100    x0/97.5    x0/100  25.5    ||\n",
      "                                                      ↓ Fold\n",
      "Preflop:    x0/100   6.5/100  16.5/100    x0/100    x0/97.5    x0/100  25.5    ||\n",
      "                        ↓ Fold\n",
      "Preflop:    x0/100    x0/93.5    x0/83.5    x0/100    x0/97.5    x0/100  25.5    ||\n",
      "                        ↓ Fold\n",
      "Preflop:    x0/100    x0/93.5    x0/83.5    x0/100    x0/97.5    x0/100  25.5    ||\n"
     ]
    }
   ],
   "source": [
    "print(pkrs.visualize_trace(trace))"
   ]
  }
 ],
 "metadata": {
  "kernelspec": {
   "display_name": "opencv_env",
   "language": "python",
   "name": "python3"
  },
  "language_info": {
   "codemirror_mode": {
    "name": "ipython",
    "version": 3
   },
   "file_extension": ".py",
   "mimetype": "text/x-python",
   "name": "python",
   "nbconvert_exporter": "python",
   "pygments_lexer": "ipython3",
   "version": "3.12.3"
  }
 },
 "nbformat": 4,
 "nbformat_minor": 2
}
